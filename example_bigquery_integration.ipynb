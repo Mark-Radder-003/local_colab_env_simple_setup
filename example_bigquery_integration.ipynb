{
 "cells": [
  {
   "cell_type": "markdown",
   "metadata": {},
   "source": [
    "# BigQuery Integration Example\n",
    "\n",
    "This notebook demonstrates how to use BigQuery with the `colab_env` environment for data analysis.\n",
    "\n",
    "## Prerequisites\n",
    "1. Environment activated: `mamba activate colab_env`\n",
    "2. Google Cloud authentication completed\n",
    "3. PROJECT_ID environment variable set\n",
    "\n",
    "## Setup Instructions\n",
    "```bash\n",
    "# In terminal:\n",
    "export PROJECT_ID=\"your-project-id\"\n",
    "gcloud auth application-default login\n",
    "```"
   ]
  },
  {
   "cell_type": "markdown",
   "metadata": {},
   "source": [
    "## Method 1: Using google-cloud-bigquery Client"
   ]
  },
  {
   "cell_type": "code",
   "execution_count": null,
   "metadata": {},
   "outputs": [],
   "source": [
    "import os\n",
    "import pandas as pd\n",
    "from google.cloud import bigquery\n",
    "import matplotlib.pyplot as plt\n",
    "import seaborn as sns\n",
    "\n",
    "# Set up project ID\n",
    "PROJECT_ID = os.environ.get('PROJECT_ID')\n",
    "if not PROJECT_ID:\n",
    "    PROJECT_ID = input(\"Enter your Google Cloud Project ID: \")\n",
    "\n",
    "print(f\"Using project: {PROJECT_ID}\")"
   ]
  },
  {
   "cell_type": "code",
   "execution_count": null,
   "metadata": {},
   "outputs": [],
   "source": [
    "# Initialize BigQuery client\n",
    "client = bigquery.Client(project=PROJECT_ID)\n",
    "\n",
    "# Test connection by listing datasets\n",
    "print(\"Available datasets:\")\n",
    "try:\n",
    "    datasets = list(client.list_datasets())\n",
    "    if datasets:\n",
    "        for dataset in datasets[:5]:  # Show first 5\n",
    "            print(f\"  - {dataset.dataset_id}\")\n",
    "    else:\n",
    "        print(\"  No datasets found in this project\")\n",
    "except Exception as e:\n",
    "    print(f\"Error listing datasets: {e}\")"
   ]
  },
  {
   "cell_type": "markdown",
   "metadata": {},
   "source": [
    "## Example 1: Query Public Dataset"
   ]
  },
  {
   "cell_type": "code",
   "execution_count": null,
   "metadata": {},
   "outputs": [],
   "source": [
    "# Query USA names public dataset\n",
    "query = \"\"\"\n",
    "SELECT \n",
    "    name,\n",
    "    gender,\n",
    "    SUM(number) as total_count\n",
    "FROM `bigquery-public-data.usa_names.usa_1910_current`\n",
    "WHERE year >= 2010\n",
    "GROUP BY name, gender\n",
    "ORDER BY total_count DESC\n",
    "LIMIT 20\n",
    "\"\"\"\n",
    "\n",
    "# Execute query\n",
    "print(\"Executing query...\")\n",
    "query_job = client.query(query)\n",
    "df_names = query_job.to_dataframe()\n",
    "\n",
    "print(f\"Query returned {len(df_names)} rows\")\n",
    "df_names.head(10)"
   ]
  },
  {
   "cell_type": "code",
   "execution_count": null,
   "metadata": {},
   "outputs": [],
   "source": [
    "# Visualize the results\n",
    "plt.figure(figsize=(12, 6))\n",
    "\n",
    "# Top 10 names by gender\n",
    "top_names = df_names.head(10)\n",
    "colors = ['lightblue' if gender == 'M' else 'lightpink' for gender in top_names['gender']]\n",
    "\n",
    "plt.bar(range(len(top_names)), top_names['total_count'], color=colors)\n",
    "plt.xlabel('Name')\n",
    "plt.ylabel('Total Count (2010+)')\n",
    "plt.title('Top 10 Most Popular Names in US (2010-Current)')\n",
    "plt.xticks(range(len(top_names)), \n",
    "           [f\"{row['name']} ({row['gender']})\" for _, row in top_names.iterrows()], \n",
    "           rotation=45)\n",
    "plt.tight_layout()\n",
    "plt.show()"
   ]
  },
  {
   "cell_type": "markdown",
   "metadata": {},
   "source": [
    "## Method 2: Using pandas-gbq"
   ]
  },
  {
   "cell_type": "code",
   "execution_count": null,
   "metadata": {},
   "outputs": [],
   "source": [
    "import pandas_gbq\n",
    "\n",
    "# Query using pandas-gbq for easier DataFrame integration\n",
    "query_trends = \"\"\"\n",
    "SELECT \n",
    "    year,\n",
    "    gender,\n",
    "    SUM(number) as total_births\n",
    "FROM `bigquery-public-data.usa_names.usa_1910_current`\n",
    "WHERE year >= 1950 AND year <= 2020\n",
    "GROUP BY year, gender\n",
    "ORDER BY year, gender\n",
    "\"\"\"\n",
    "\n",
    "print(\"Querying birth trends...\")\n",
    "df_trends = pandas_gbq.read_gbq(query_trends, project_id=PROJECT_ID)\n",
    "\n",
    "print(f\"Retrieved {len(df_trends)} rows\")\n",
    "df_trends.head()"
   ]
  },
  {
   "cell_type": "code",
   "execution_count": null,
   "metadata": {},
   "outputs": [],
   "source": [
    "# Analyze and visualize birth trends\n",
    "plt.figure(figsize=(12, 8))\n",
    "\n",
    "# Pivot data for easier plotting\n",
    "df_pivot = df_trends.pivot(index='year', columns='gender', values='total_births')\n",
    "\n",
    "# Plot trends\n",
    "plt.subplot(2, 1, 1)\n",
    "plt.plot(df_pivot.index, df_pivot['M'], label='Male', color='blue', linewidth=2)\n",
    "plt.plot(df_pivot.index, df_pivot['F'], label='Female', color='pink', linewidth=2)\n",
    "plt.title('US Birth Trends by Gender (1950-2020)')\n",
    "plt.xlabel('Year')\n",
    "plt.ylabel('Total Births')\n",
    "plt.legend()\n",
    "plt.grid(True, alpha=0.3)\n",
    "\n",
    "# Plot ratio\n",
    "plt.subplot(2, 1, 2)\n",
    "ratio = df_pivot['M'] / df_pivot['F']\n",
    "plt.plot(df_pivot.index, ratio, color='green', linewidth=2)\n",
    "plt.title('Male to Female Birth Ratio')\n",
    "plt.xlabel('Year')\n",
    "plt.ylabel('Ratio (M/F)')\n",
    "plt.grid(True, alpha=0.3)\n",
    "plt.axhline(y=1.0, color='red', linestyle='--', alpha=0.7, label='Equal ratio')\n",
    "plt.legend()\n",
    "\n",
    "plt.tight_layout()\n",
    "plt.show()\n",
    "\n",
    "# Summary statistics\n",
    "print(\"\\nSummary Statistics:\")\n",
    "print(f\"Average male births per year: {df_pivot['M'].mean():,.0f}\")\n",
    "print(f\"Average female births per year: {df_pivot['F'].mean():,.0f}\")\n",
    "print(f\"Average M/F ratio: {ratio.mean():.3f}\")"
   ]
  },
  {
   "cell_type": "markdown",
   "metadata": {},
   "source": [
    "## Method 3: Using BigQuery Magic Commands"
   ]
  },
  {
   "cell_type": "code",
   "execution_count": null,
   "metadata": {},
   "outputs": [],
   "source": [
    "# Load BigQuery magic extension\n",
    "%load_ext google.cloud.bigquery"
   ]
  },
  {
   "cell_type": "code",
   "execution_count": null,
   "metadata": {},
   "outputs": [],
   "source": [
    "%%bigquery df_states --project $PROJECT_ID\n",
    "SELECT \n",
    "    state,\n",
    "    SUM(number) as total_births,\n",
    "    COUNT(DISTINCT name) as unique_names\n",
    "FROM `bigquery-public-data.usa_names.usa_1910_current`\n",
    "WHERE year >= 2000\n",
    "GROUP BY state\n",
    "ORDER BY total_births DESC\n",
    "LIMIT 15"
   ]
  },
  {
   "cell_type": "code",
   "execution_count": null,
   "metadata": {},
   "outputs": [],
   "source": [
    "# Analyze state data\n",
    "print(\"Top 15 states by births (2000+):\")\n",
    "display(df_states)\n",
    "\n",
    "# Visualize\n",
    "plt.figure(figsize=(12, 8))\n",
    "plt.barh(df_states['state'], df_states['total_births'])\n",
    "plt.xlabel('Total Births (2000+)')\n",
    "plt.title('Total Births by State (2000-Current)')\n",
    "plt.gca().invert_yaxis()  # Highest at top\n",
    "plt.tight_layout()\n",
    "plt.show()\n",
    "\n",
    "# Correlation between population and name diversity\n",
    "plt.figure(figsize=(10, 6))\n",
    "plt.scatter(df_states['total_births'], df_states['unique_names'], alpha=0.7)\n",
    "plt.xlabel('Total Births')\n",
    "plt.ylabel('Unique Names')\n",
    "plt.title('Relationship between Population and Name Diversity by State')\n",
    "\n",
    "# Add state labels for top 5\n",
    "for i, row in df_states.head(5).iterrows():\n",
    "    plt.annotate(row['state'], (row['total_births'], row['unique_names']), \n",
    "                xytext=(5, 5), textcoords='offset points', fontsize=8)\n",
    "\n",
    "plt.grid(True, alpha=0.3)\n",
    "plt.tight_layout()\n",
    "plt.show()"
   ]
  },
  {
   "cell_type": "markdown",
   "metadata": {},
   "source": [
    "## Working with Your Own Data"
   ]
  },
  {
   "cell_type": "code",
   "execution_count": null,
   "metadata": {},
   "outputs": [],
   "source": [
    "# Example: Create a sample dataset and upload to BigQuery\n",
    "# (Uncomment and modify for your actual use case)\n",
    "\n",
    "# Create sample financial data\n",
    "import numpy as np\n",
    "from datetime import datetime, timedelta\n",
    "\n",
    "# Generate sample stock price data\n",
    "np.random.seed(42)\n",
    "dates = pd.date_range(start='2023-01-01', end='2024-01-01', freq='D')\n",
    "sample_data = {\n",
    "    'date': dates,\n",
    "    'symbol': np.random.choice(['AAPL', 'GOOGL', 'MSFT', 'TSLA'], len(dates)),\n",
    "    'price': np.random.uniform(100, 300, len(dates)),\n",
    "    'volume': np.random.randint(1000000, 10000000, len(dates))\n",
    "}\n",
    "\n",
    "df_sample = pd.DataFrame(sample_data)\n",
    "print(\"Sample financial data:\")\n",
    "print(df_sample.head())\n",
    "\n",
    "# To upload to BigQuery (uncomment to use):\n",
    "# dataset_id = 'your_dataset_name'\n",
    "# table_id = 'sample_stock_data'\n",
    "# \n",
    "# df_sample.to_gbq(\n",
    "#     f'{dataset_id}.{table_id}',\n",
    "#     project_id=PROJECT_ID,\n",
    "#     if_exists='replace',\n",
    "#     progress_bar=True\n",
    "# )\n",
    "# print(f\"Data uploaded to {PROJECT_ID}.{dataset_id}.{table_id}\")"
   ]
  },
  {
   "cell_type": "markdown",
   "metadata": {},
   "source": [
    "## Cost Management Tips"
   ]
  },
  {
   "cell_type": "code",
   "execution_count": null,
   "metadata": {},
   "outputs": [],
   "source": [
    "# Check query cost before running expensive queries\n",
    "expensive_query = \"\"\"\n",
    "SELECT *\n",
    "FROM `bigquery-public-data.usa_names.usa_1910_current`\n",
    "WHERE year >= 1910\n",
    "\"\"\"\n",
    "\n",
    "# Get query job config to estimate cost\n",
    "job_config = bigquery.QueryJobConfig(dry_run=True, use_query_cache=False)\n",
    "query_job = client.query(expensive_query, job_config=job_config)\n",
    "\n",
    "print(f\"This query will process {query_job.total_bytes_processed:,} bytes\")\n",
    "print(f\"Estimated cost: ${(query_job.total_bytes_processed / 1024**4) * 5:.4f} USD\")\n",
    "print(\"(Based on $5 per TB processed)\")"
   ]
  },
  {
   "cell_type": "markdown",
   "metadata": {},
   "source": [
    "## Next Steps\n",
    "\n",
    "1. **Explore your own datasets**: Replace the public dataset queries with your own data\n",
    "2. **Set up scheduled queries**: Use BigQuery's scheduled queries for regular data updates\n",
    "3. **Integrate with other tools**: Combine with Cloud Storage, Sheets, or other GCP services\n",
    "4. **Monitor costs**: Set up billing alerts and use query cost estimation\n",
    "5. **Optimize queries**: Use partitioning, clustering, and appropriate WHERE clauses\n",
    "\n",
    "## Useful Resources\n",
    "\n",
    "- [BigQuery Documentation](https://cloud.google.com/bigquery/docs)\n",
    "- [pandas-gbq Documentation](https://pandas-gbq.readthedocs.io/)\n",
    "- [BigQuery Magic Commands](https://cloud.google.com/bigquery/docs/bigquery-magic)\n",
    "- [BigQuery Public Datasets](https://cloud.google.com/bigquery/public-data)"
   ]
  }
 ],
 "metadata": {
  "kernelspec": {
   "display_name": "colab_env",
   "language": "python",
   "name": "python3"
  },
  "language_info": {
   "codemirror_mode": {
    "name": "ipython",
    "version": 3
   },
   "file_extension": ".py",
   "mimetype": "text/x-python",
   "name": "python",
   "nbconvert_exporter": "python",
   "pygments_lexer": "ipython3",
   "version": "3.12.11"
  }
 },
 "nbformat": 4,
 "nbformat_minor": 4
}
