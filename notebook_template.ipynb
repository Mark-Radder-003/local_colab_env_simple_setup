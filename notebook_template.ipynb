{
 "cells": [
  {
   "cell_type": "markdown",
   "metadata": {
    "id": "QpKgcv1xjqVa"
   },
   "source": [
    "# ＊Setup"
   ]
  },
  {
   "cell_type": "markdown",
   "metadata": {
    "id": "MB8RrGLzjqVc"
   },
   "source": [
    "## for cloud colab_env"
   ]
  },
  {
   "cell_type": "code",
   "execution_count": null,
   "metadata": {
    "id": "PYRgIy5CiN3F"
   },
   "outputs": [],
   "source": [
    "# Package Setup\n",
    "import sys\n",
    "import pandas as pd\n",
    "import numpy as np\n",
    "import matplotlib.pyplot as plt\n",
    "import seaborn as sns\n",
    "import datetime\n",
    "import re\n",
    "\n",
    "# GCP\n",
    "import google.auth\n",
    "from google_auth_oauthlib.flow import InstalledAppFlow\n",
    "from google.cloud import bigquery\n",
    "from google.cloud.bigquery.magics import context\n",
    "from google.auth.transport.requests import Request\n",
    "from google.oauth2.credentials import Credentials\n",
    "from googleapiclient.discovery import build\n",
    "\n",
    "\n",
    "# Initialize BigQuery client\n",
    "client = bigquery.Client()\n",
    "\n",
    "# https://colab.research.google.com/notebooks/snippets/bigquery.ipynb#scrollTo=c_ch12UEi8Jz\n",
    "%load_ext google.colab.data_table\n",
    "\n",
    "# Load BigQuery extensions\n",
    "# https://cloud.google.com/python/docs/reference/bigquery/latest/magics\n",
    "%load_ext bigquery_magics\n",
    "\n",
    "# Google認証\n",
    "from google.colab import auth\n",
    "auth.authenticate_user()\n",
    "\n",
    "# GoogleDrive mount\n",
    "from google.colab import drive\n",
    "drive.mount('/content/drive')\n",
    "\n",
    "# Authorize gspread to access Google Sheets\n",
    "from google.colab import sheets\n",
    "import gspread\n",
    "creds, _ = google.auth.default()\n",
    "gc = gspread.authorize(creds)"
   ]
  },
  {
   "cell_type": "markdown",
   "metadata": {
    "id": "mZfolgw_jqVd"
   },
   "source": [
    "## for local colab_env"
   ]
  },
  {
   "cell_type": "code",
   "execution_count": null,
   "metadata": {
    "id": "9-TePu7HjqVe"
   },
   "outputs": [],
   "source": [
    "# Package Setup\n",
    "import sys\n",
    "import pandas as pd\n",
    "import numpy as np\n",
    "import matplotlib.pyplot as plt\n",
    "import seaborn as sns\n",
    "import datetime\n",
    "import re\n",
    "from tqdm.notebook import tqdm\n",
    "\n",
    "# GCP\n",
    "import google.auth\n",
    "from google_auth_oauthlib.flow import InstalledAppFlow\n",
    "from google.cloud import bigquery\n",
    "from google.cloud.bigquery.magics import context\n",
    "from google.auth.transport.requests import Request\n",
    "from google.oauth2.credentials import Credentials\n",
    "from googleapiclient.discovery import build\n",
    "import gspread\n",
    "\n",
    "print(f\"✓ Python version: {sys.version}\")\n",
    "print(f\"✓ Working in environment: {sys.prefix}\")\n",
    "print(f\"✓ pandas {pd.__version__}\")\n",
    "print(\"✓ All packages imported successfully!\")\n",
    "print(\"=\"*50)"
   ]
  },
  {
   "cell_type": "markdown",
   "metadata": {},
   "source": [
    "## ＊  bq prj,dateset,etc..."
   ]
  },
  {
   "cell_type": "code",
   "execution_count": null,
   "metadata": {},
   "outputs": [],
   "source": [
    "# !gcloud projects list"
   ]
  },
  {
   "cell_type": "code",
   "execution_count": null,
   "metadata": {},
   "outputs": [],
   "source": [
    "project_id = 'your-project-id'  # Replace with your actual project ID\n",
    "\n",
    "params = {\n",
    "    'project_id': project_id,\n",
    "    'limit': 99\n",
    "}\n",
    "\n",
    "\n",
    "# ＊ Authentication Setup\n",
    "print(\"Setting up Google Cloud authentication...\")\n",
    "\n",
    "# Authenticate using the default credentials\n",
    "creds, _ = google.auth.default()\n",
    "# If you need to refresh the credentials, uncomment the following line\n",
    "!gcloud auth login\n",
    "\n",
    "## option 1 : use !gcloud config\n",
    "!gcloud config set project $project_id\n",
    "# This might print your default project, but it's not always reliable for setting the client\n",
    "# as the Colab environment's default might not be the one you want to query against.\n",
    "!gcloud config get-value project\n",
    "\n",
    "# Load BigQuery extensions\n",
    "%load_ext bigquery_magics\n",
    "# Set credentials for BigQuery magics\n",
    "context.credentials = creds\n",
    "\n",
    "print(\"✓ Authentication setup complete!\")\n",
    "print(\"✓ BigQuery client initialized\")\n",
    "print(\"=\"*50)"
   ]
  },
  {
   "cell_type": "code",
   "execution_count": null,
   "metadata": {
    "id": "doIB-rhbjqVi"
   },
   "outputs": [],
   "source": [
    "\n",
    "\n",
    "print(\"✓ Authentication setup complete!\")\n",
    "print(\"✓ BigQuery client initialized\")\n",
    "print(\"✓ Google Drive API ready\")\n",
    "print(\"✓ Google Sheets client ready\")\n",
    "print(\"=\"*50)"
   ]
  },
  {
   "cell_type": "markdown",
   "metadata": {},
   "source": [
    "# 👇本文"
   ]
  },
  {
   "cell_type": "code",
   "execution_count": null,
   "metadata": {
    "id": "ROJ8mtNPjqVu"
   },
   "outputs": [],
   "source": [
    "%%bigquery  --project $project_id  --params $params\n",
    "\n",
    "# Query to get the top 15 states with the most births since 2000\n",
    "\n",
    "SELECT \n",
    "    state,\n",
    "    SUM(number) as total_births,\n",
    "    COUNT(DISTINCT name) as unique_names\n",
    "FROM `bigquery-public-data.usa_names.usa_1910_current`\n",
    "WHERE year >= 2000\n",
    "GROUP BY state\n",
    "ORDER BY total_births DESC\n",
    "LIMIT 15"
   ]
  }
 ],
 "metadata": {
  "colab": {
   "provenance": [],
   "toc_visible": true
  },
  "kernelspec": {
   "display_name": "colab_env",
   "language": "python",
   "name": "python3"
  },
  "language_info": {
   "codemirror_mode": {
    "name": "ipython",
    "version": 3
   },
   "file_extension": ".py",
   "mimetype": "text/x-python",
   "name": "python",
   "nbconvert_exporter": "python",
   "pygments_lexer": "ipython3",
   "version": "3.12.11"
  }
 },
 "nbformat": 4,
 "nbformat_minor": 0
}
